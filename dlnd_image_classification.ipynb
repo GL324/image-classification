{
 "cells": [
  {
   "cell_type": "markdown",
   "metadata": {
    "collapsed": true
   },
   "source": [
    "# Image Classification\n",
    "\n",
    "## Get the Data"
   ]
  },
  {
   "cell_type": "code",
   "execution_count": 83,
   "metadata": {},
   "outputs": [
    {
     "name": "stdout",
     "output_type": "stream",
     "text": [
      "All files found!\n"
     ]
    }
   ],
   "source": [
    "from urllib.request import urlretrieve\n",
    "from os.path import isfile, isdir\n",
    "from tqdm import tqdm\n",
    "import problem_unittests as tests\n",
    "import tarfile\n",
    "\n",
    "cifar10_dataset_folder_path = 'cifar-10-batches-py'\n",
    "\n",
    "# Use Floyd's cifar-10 dataset if present\n",
    "floyd_cifar10_location = '/cifar/cifar-10-python.tar.gz'\n",
    "if isfile(floyd_cifar10_location):\n",
    "    tar_gz_path = floyd_cifar10_location\n",
    "else:\n",
    "    tar_gz_path = 'cifar-10-python.tar.gz'\n",
    "\n",
    "class DLProgress(tqdm):\n",
    "    last_block = 0\n",
    "\n",
    "    def hook(self, block_num=1, block_size=1, total_size=None):\n",
    "        self.total = total_size\n",
    "        self.update((block_num - self.last_block) * block_size)\n",
    "        self.last_block = block_num\n",
    "\n",
    "if not isfile(tar_gz_path):\n",
    "    with DLProgress(unit='B', unit_scale=True, miniters=1, desc='CIFAR-10 Dataset') as pbar:\n",
    "        urlretrieve(\n",
    "            'https://www.cs.toronto.edu/~kriz/cifar-10-python.tar.gz',\n",
    "            tar_gz_path,\n",
    "            pbar.hook)\n",
    "\n",
    "if not isdir(cifar10_dataset_folder_path):\n",
    "    with tarfile.open(tar_gz_path) as tar:\n",
    "        tar.extractall()\n",
    "        tar.close()\n",
    "\n",
    "\n",
    "tests.test_folder_path(cifar10_dataset_folder_path)"
   ]
  },
  {
   "cell_type": "markdown",
   "metadata": {},
   "source": [
    "## Explore the Data"
   ]
  },
  {
   "cell_type": "code",
   "execution_count": 84,
   "metadata": {},
   "outputs": [
    {
     "name": "stdout",
     "output_type": "stream",
     "text": [
      "\n",
      "Stats of batch 1:\n",
      "Samples: 10000\n",
      "Label Counts: {0: 1005, 1: 974, 2: 1032, 3: 1016, 4: 999, 5: 937, 6: 1030, 7: 1001, 8: 1025, 9: 981}\n",
      "First 20 Labels: [6, 9, 9, 4, 1, 1, 2, 7, 8, 3, 4, 7, 7, 2, 9, 9, 9, 3, 2, 6]\n",
      "\n",
      "Example of Image 5:\n",
      "Image - Min Value: 0 Max Value: 252\n",
      "Image - Shape: (32, 32, 3)\n",
      "Label - Label Id: 1 Name: automobile\n"
     ]
    },
    {
     "data": {
      "image/png": "[encoded data removed]",
      "text/plain": [
       "<matplotlib.figure.Figure at 0x7f3e17feb6d8>"
      ]
     },
     "metadata": {
      "image/png": {
       "height": 250,
       "width": 253
      }
     },
     "output_type": "display_data"
    }
   ],
   "source": [
    "%matplotlib inline\n",
    "%config InlineBackend.figure_format = 'retina'\n",
    "\n",
    "import helper\n",
    "import numpy as np\n",
    "\n",
    "# Explore the dataset\n",
    "batch_id = 1\n",
    "sample_id = 5\n",
    "helper.display_stats(cifar10_dataset_folder_path, batch_id, sample_id)"
   ]
  },
  {
   "cell_type": "markdown",
   "metadata": {},
   "source": [
    "## Implement Preprocess Functions\n",
    "### Normalize"
   ]
  },
  {
   "cell_type": "code",
   "execution_count": 85,
   "metadata": {},
   "outputs": [
    {
     "name": "stdout",
     "output_type": "stream",
     "text": [
      "Tests Passed\n"
     ]
    }
   ],
   "source": [
    "def normalize(x):\n",
    "    \"\"\"\n",
    "    Normalize a list of sample image data in the range of 0 to 1\n",
    "    : x: List of image data.  The image shape is (32, 32, 3)\n",
    "    : return: Numpy array of normalize data\n",
    "    \"\"\"\n",
    "    x_max = np.max(x)\n",
    "    x_min = np.min(x)\n",
    "    return (x - x_min) / (x_max - x_min)\n",
    "\n",
    "tests.test_normalize(normalize)"
   ]
  },
  {
   "cell_type": "markdown",
   "metadata": {},
   "source": [
    "### One-hot encode"
   ]
  },
  {
   "cell_type": "code",
   "execution_count": 86,
   "metadata": {},
   "outputs": [
    {
     "name": "stdout",
     "output_type": "stream",
     "text": [
      "Tests Passed\n"
     ]
    }
   ],
   "source": [
    "def one_hot_encode(x):\n",
    "    \"\"\"\n",
    "    One hot encode a list of sample labels. Return a one-hot encoded vector for each label.\n",
    "    : x: List of sample Labels\n",
    "    : return: Numpy array of one-hot encoded labels\n",
    "    \"\"\"\n",
    "    x_one_hot = np.zeros((len(x), 10))\n",
    "    for i in range(len(x)):\n",
    "        x_one_hot[i, x[i]] = 1\n",
    "    return x_one_hot\n",
    "\n",
    "tests.test_one_hot_encode(one_hot_encode)"
   ]
  },
  {
   "cell_type": "markdown",
   "metadata": {},
   "source": [
    "## Preprocess all the data and save it"
   ]
  },
  {
   "cell_type": "code",
   "execution_count": 87,
   "metadata": {
    "collapsed": true
   },
   "outputs": [],
   "source": [
    "# Preprocess Training, Validation, and Testing Data\n",
    "helper.preprocess_and_save_data(cifar10_dataset_folder_path, normalize, one_hot_encode)"
   ]
  },
  {
   "cell_type": "markdown",
   "metadata": {},
   "source": [
    "# Check Point"
   ]
  },
  {
   "cell_type": "code",
   "execution_count": 88,
   "metadata": {
    "collapsed": true
   },
   "outputs": [],
   "source": [
    "import pickle\n",
    "import problem_unittests as tests\n",
    "import helper\n",
    "\n",
    "# Load the Preprocessed Validation data\n",
    "valid_features, valid_labels = pickle.load(open('preprocess_validation.p', mode='rb'))"
   ]
  },
  {
   "cell_type": "markdown",
   "metadata": {},
   "source": [
    "## Build the network"
   ]
  },
  {
   "cell_type": "code",
   "execution_count": 89,
   "metadata": {},
   "outputs": [
    {
     "name": "stdout",
     "output_type": "stream",
     "text": [
      "Image Input Tests Passed.\n",
      "Label Input Tests Passed.\n",
      "Keep Prob Tests Passed.\n"
     ]
    }
   ],
   "source": [
    "import tensorflow as tf\n",
    "\n",
    "def neural_net_image_input(image_shape):\n",
    "    \"\"\"\n",
    "    Return a Tensor for a batch of image input\n",
    "    : image_shape: Shape of the images\n",
    "    : return: Tensor for image input.\n",
    "    \"\"\"\n",
    "    return tf.placeholder(tf.float32, [None, *image_shape], name='x')\n",
    "\n",
    "\n",
    "def neural_net_label_input(n_classes):\n",
    "    \"\"\"\n",
    "    Return a Tensor for a batch of label input\n",
    "    : n_classes: Number of classes\n",
    "    : return: Tensor for label input.\n",
    "    \"\"\"\n",
    "    return tf.placeholder(tf.float32, [None, n_classes], name='y')\n",
    "\n",
    "\n",
    "def neural_net_keep_prob_input():\n",
    "    \"\"\"\n",
    "    Return a Tensor for keep probability\n",
    "    : return: Tensor for keep probability.\n",
    "    \"\"\"\n",
    "    return tf.placeholder(tf.float32, name='keep_prob')\n",
    "\n",
    "\n",
    "tf.reset_default_graph()\n",
    "tests.test_nn_image_inputs(neural_net_image_input)\n",
    "tests.test_nn_label_inputs(neural_net_label_input)\n",
    "tests.test_nn_keep_prob_inputs(neural_net_keep_prob_input)"
   ]
  },
  {
   "cell_type": "markdown",
   "metadata": {},
   "source": [
    "### Convolution and Max Pooling Layer"
   ]
  },
  {
   "cell_type": "code",
   "execution_count": 90,
   "metadata": {},
   "outputs": [
    {
     "name": "stdout",
     "output_type": "stream",
     "text": [
      "Tests Passed\n"
     ]
    }
   ],
   "source": [
    "def conv2d_maxpool(x_tensor, conv_num_outputs, conv_ksize, conv_strides, pool_ksize, pool_strides):\n",
    "    \"\"\"\n",
    "    Apply convolution then max pooling to x_tensor\n",
    "    :param x_tensor: TensorFlow Tensor\n",
    "    :param conv_num_outputs: Number of outputs for the convolutional layer\n",
    "    :param conv_ksize: kernal size 2-D Tuple for the convolutional layer\n",
    "    :param conv_strides: Stride 2-D Tuple for convolution\n",
    "    :param pool_ksize: kernal size 2-D Tuple for pool\n",
    "    :param pool_strides: Stride 2-D Tuple for pool\n",
    "    : return: A tensor that represents convolution and max pooling of x_tensor\n",
    "    \"\"\"\n",
    "    weight = tf.Variable(tf.truncated_normal([*conv_ksize, x_tensor.get_shape().as_list()[3], conv_num_outputs], stddev=0.1))\n",
    "    bias = tf.Variable(tf.zeros(conv_num_outputs))\n",
    "    x = tf.nn.conv2d(x_tensor,\n",
    "                     weight,\n",
    "                     [1, *conv_strides, 1],\n",
    "                     padding='SAME')\n",
    "    x = tf.nn.bias_add(x, bias)\n",
    "    x = tf.nn.relu(x)\n",
    "    x = tf.nn.max_pool(x,\n",
    "                       [1, *pool_ksize, 1],\\\n",
    "                       [1, *pool_strides, 1],\n",
    "                       padding='SAME')\n",
    "    return x\n",
    "\n",
    "\n",
    "tests.test_con_pool(conv2d_maxpool)"
   ]
  },
  {
   "cell_type": "markdown",
   "metadata": {},
   "source": [
    "### Flatten Layer"
   ]
  },
  {
   "cell_type": "code",
   "execution_count": 91,
   "metadata": {},
   "outputs": [
    {
     "name": "stdout",
     "output_type": "stream",
     "text": [
      "Tests Passed\n"
     ]
    }
   ],
   "source": [
    "def flatten(x_tensor):\n",
    "    \"\"\"\n",
    "    Flatten x_tensor to (Batch Size, Flattened Image Size)\n",
    "    : x_tensor: A tensor of size (Batch Size, ...), where ... are the image dimensions.\n",
    "    : return: A tensor of size (Batch Size, Flattened Image Size).\n",
    "    \"\"\"\n",
    "    x_shape = x_tensor.get_shape().as_list()\n",
    "    return tf.reshape(x_tensor, [-1, x_shape[1]*x_shape[2]*x_shape[3]])\n",
    "\n",
    "\n",
    "tests.test_flatten(flatten)"
   ]
  },
  {
   "cell_type": "markdown",
   "metadata": {},
   "source": [
    "### Fully-Connected Layer"
   ]
  },
  {
   "cell_type": "code",
   "execution_count": 124,
   "metadata": {},
   "outputs": [
    {
     "name": "stdout",
     "output_type": "stream",
     "text": [
      "[None, 128]\n",
      "Tests Passed\n"
     ]
    }
   ],
   "source": [
    "def fully_conn(x_tensor, num_outputs):\n",
    "    \"\"\"\n",
    "    Apply a fully connected layer to x_tensor using weight and bias\n",
    "    : x_tensor: A 2-D tensor where the first dimension is batch size.\n",
    "    : num_outputs: The number of output that the new tensor should be.\n",
    "    : return: A 2-D tensor where the second dimension is num_outputs.\n",
    "    \"\"\"\n",
    "    x_tensor_shape = x_tensor.get_shape().as_list()\n",
    "    print(x_tensor_shape)\n",
    "    fully_weight = tf.Variable(tf.truncated_normal([x_tensor_shape[1], num_outputs], stddev=0.1))\n",
    "    fully_bias = tf.Variable(tf.zeros(num_outputs))\n",
    "    x = tf.add(tf.matmul(x_tensor, fully_weight), fully_bias)\n",
    "    \n",
    "    return tf.nn.relu(x)\n",
    "\n",
    "tests.test_fully_conn(fully_conn)"
   ]
  },
  {
   "cell_type": "markdown",
   "metadata": {},
   "source": [
    "### Output Layer"
   ]
  },
  {
   "cell_type": "code",
   "execution_count": 125,
   "metadata": {},
   "outputs": [
    {
     "name": "stdout",
     "output_type": "stream",
     "text": [
      "Tests Passed\n"
     ]
    }
   ],
   "source": [
    "def output(x_tensor, num_outputs):\n",
    "    \"\"\"\n",
    "    Apply a output layer to x_tensor using weight and bias\n",
    "    : x_tensor: A 2-D tensor where the first dimension is batch size.\n",
    "    : num_outputs: The number of output that the new tensor should be.\n",
    "    : return: A 2-D tensor where the second dimension is num_outputs.\n",
    "    \"\"\"\n",
    "    x_tensor_shape = x_tensor.get_shape().as_list()\n",
    "    output_weight = tf.Variable(tf.truncated_normal([x_tensor_shape[1], num_outputs], stddev=0.1))\n",
    "    output_bias = tf.Variable(tf.zeros(num_outputs))\n",
    "    return tf.add(tf.matmul(x_tensor, output_weight), output_bias)\n",
    "\n",
    "\n",
    "tests.test_output(output)"
   ]
  },
  {
   "cell_type": "markdown",
   "metadata": {},
   "source": [
    "### Create Convolutional Model"
   ]
  },
  {
   "cell_type": "code",
   "execution_count": 126,
   "metadata": {},
   "outputs": [
    {
     "name": "stdout",
     "output_type": "stream",
     "text": [
      "[None, 1024]\n",
      "[None, 1024]\n",
      "Neural Network Built!\n"
     ]
    }
   ],
   "source": [
    "def conv_net(x, keep_prob):\n",
    "    \"\"\"\n",
    "    Create a convolutional neural network model\n",
    "    : x: Placeholder tensor that holds image data.\n",
    "    : keep_prob: Placeholder tensor that hold dropout keep probability.\n",
    "    : return: Tensor that represents logits\n",
    "    \"\"\"\n",
    "    # Apply 1, 2, or 3 Convolution and Max Pool layers\n",
    "    x = conv2d_maxpool(x, 32, (3, 3), (1, 1), (2, 2), (2, 2))\n",
    "    x = conv2d_maxpool(x, 64, (3, 3), (2, 2), (3, 3), (2, 2))\n",
    "\n",
    "    # Apply a Flatten Layer\n",
    "    x = flatten(x)\n",
    "    \n",
    "\n",
    "    # Apply 1, 2, or 3 Fully Connected Layers\n",
    "    x = fully_conn(x, 1024)\n",
    "    x = tf.nn.dropout(x, keep_prob = keep_prob)\n",
    "    \n",
    "    # Apply an Output Layer\n",
    "    x = output(x, 10)\n",
    "    \n",
    "    \n",
    "    # return output\n",
    "    return x\n",
    "\n",
    "\n",
    "##############################\n",
    "## Build the Neural Network ##\n",
    "##############################\n",
    "\n",
    "# Remove previous weights, bias, inputs, etc..\n",
    "tf.reset_default_graph()\n",
    "\n",
    "# Inputs\n",
    "x = neural_net_image_input((32, 32, 3))\n",
    "y = neural_net_label_input(10)\n",
    "keep_prob = neural_net_keep_prob_input()\n",
    "\n",
    "# Model\n",
    "logits = conv_net(x, keep_prob)\n",
    "\n",
    "# Name logits Tensor, so that is can be loaded from disk after training\n",
    "logits = tf.identity(logits, name='logits')\n",
    "\n",
    "# Loss and Optimizer\n",
    "cost = tf.reduce_mean(tf.nn.softmax_cross_entropy_with_logits(logits=logits, labels=y))\n",
    "optimizer = tf.train.AdamOptimizer().minimize(cost)\n",
    "# optimizer = tf.train.GradientDescentOptimizer(0.1).minimize(cost)\n",
    "\n",
    "# Accuracy\n",
    "correct_pred = tf.equal(tf.argmax(logits, 1), tf.argmax(y, 1))\n",
    "accuracy = tf.reduce_mean(tf.cast(correct_pred, tf.float32), name='accuracy')\n",
    "\n",
    "tests.test_conv_net(conv_net)"
   ]
  },
  {
   "cell_type": "markdown",
   "metadata": {},
   "source": [
    "## Train the Neural Network"
   ]
  },
  {
   "cell_type": "code",
   "execution_count": 127,
   "metadata": {},
   "outputs": [
    {
     "name": "stdout",
     "output_type": "stream",
     "text": [
      "Tests Passed\n"
     ]
    }
   ],
   "source": [
    "def train_neural_network(session, optimizer, keep_probability, feature_batch, label_batch):\n",
    "    \"\"\"\n",
    "    Optimize the session on a batch of images and labels\n",
    "    : session: Current TensorFlow session\n",
    "    : optimizer: TensorFlow optimizer function\n",
    "    : keep_probability: keep probability\n",
    "    : feature_batch: Batch of Numpy image data\n",
    "    : label_batch: Batch of Numpy label data\n",
    "    \"\"\"\n",
    "    # TODO: Implement Function\n",
    "    session.run(optimizer,\n",
    "                feed_dict={x:feature_batch,\n",
    "                           y:label_batch,\n",
    "                           keep_prob:keep_probability})\n",
    "\n",
    "\n",
    "tests.test_train_nn(train_neural_network)"
   ]
  },
  {
   "cell_type": "markdown",
   "metadata": {},
   "source": [
    "### Show Stats"
   ]
  },
  {
   "cell_type": "code",
   "execution_count": 128,
   "metadata": {
    "collapsed": true
   },
   "outputs": [],
   "source": [
    "def print_stats(session, feature_batch, label_batch, cost, accuracy):\n",
    "    \"\"\"\n",
    "    Print information about loss and validation accuracy\n",
    "    : session: Current TensorFlow session\n",
    "    : feature_batch: Batch of Numpy image data\n",
    "    : label_batch: Batch of Numpy label data\n",
    "    : cost: TensorFlow cost function\n",
    "    : accuracy: TensorFlow accuracy function\n",
    "    \"\"\"\n",
    "    loss = session.run(cost, feed_dict={x:feature_batch,\n",
    "                                 y:label_batch,\n",
    "                                 keep_prob:1.0})\n",
    "    valid_acc = session.run(accuracy, feed_dict={x:valid_features,\n",
    "                                     y:valid_labels,\n",
    "                                     keep_prob:1.0})\n",
    "    \n",
    "    print('Loss: {:>10.4f} Validation Accuracy: {:.6f}'.format(\n",
    "                loss,\n",
    "                valid_acc))"
   ]
  },
  {
   "cell_type": "markdown",
   "metadata": {},
   "source": [
    "### Hyperparameters"
   ]
  },
  {
   "cell_type": "code",
   "execution_count": 132,
   "metadata": {
    "collapsed": true
   },
   "outputs": [],
   "source": [
    "epochs = 20\n",
    "batch_size = 128\n",
    "keep_probability = 0.75"
   ]
  },
  {
   "cell_type": "markdown",
   "metadata": {},
   "source": [
    "### Train on a Single CIFAR-10 Batch"
   ]
  },
  {
   "cell_type": "code",
   "execution_count": 133,
   "metadata": {},
   "outputs": [
    {
     "name": "stdout",
     "output_type": "stream",
     "text": [
      "Checking the Training on a Single Batch...\n",
      "Epoch  1, CIFAR-10 Batch 1:  Loss:     1.6928 Validation Accuracy: 0.404600\n",
      "Epoch  2, CIFAR-10 Batch 1:  Loss:     1.3515 Validation Accuracy: 0.489000\n",
      "Epoch  3, CIFAR-10 Batch 1:  Loss:     1.1290 Validation Accuracy: 0.505200\n",
      "Epoch  4, CIFAR-10 Batch 1:  Loss:     0.9835 Validation Accuracy: 0.530400\n",
      "Epoch  5, CIFAR-10 Batch 1:  Loss:     0.8781 Validation Accuracy: 0.560600\n",
      "Epoch  6, CIFAR-10 Batch 1:  Loss:     0.7951 Validation Accuracy: 0.566400\n",
      "Epoch  7, CIFAR-10 Batch 1:  Loss:     0.6602 Validation Accuracy: 0.571600\n",
      "Epoch  8, CIFAR-10 Batch 1:  Loss:     0.5119 Validation Accuracy: 0.583000\n",
      "Epoch  9, CIFAR-10 Batch 1:  Loss:     0.4410 Validation Accuracy: 0.581200\n",
      "Epoch 10, CIFAR-10 Batch 1:  Loss:     0.3766 Validation Accuracy: 0.578800\n",
      "Epoch 11, CIFAR-10 Batch 1:  Loss:     0.2832 Validation Accuracy: 0.594400\n",
      "Epoch 12, CIFAR-10 Batch 1:  Loss:     0.2838 Validation Accuracy: 0.579200\n",
      "Epoch 13, CIFAR-10 Batch 1:  Loss:     0.2136 Validation Accuracy: 0.591000\n",
      "Epoch 14, CIFAR-10 Batch 1:  Loss:     0.1732 Validation Accuracy: 0.580000\n",
      "Epoch 15, CIFAR-10 Batch 1:  Loss:     0.1360 Validation Accuracy: 0.584000\n",
      "Epoch 16, CIFAR-10 Batch 1:  Loss:     0.1037 Validation Accuracy: 0.601600\n",
      "Epoch 17, CIFAR-10 Batch 1:  Loss:     0.1384 Validation Accuracy: 0.579400\n",
      "Epoch 18, CIFAR-10 Batch 1:  Loss:     0.0883 Validation Accuracy: 0.593400\n",
      "Epoch 19, CIFAR-10 Batch 1:  Loss:     0.0737 Validation Accuracy: 0.586200\n",
      "Epoch 20, CIFAR-10 Batch 1:  Loss:     0.0386 Validation Accuracy: 0.591600\n"
     ]
    }
   ],
   "source": [
    "print('Checking the Training on a Single Batch...')\n",
    "with tf.Session() as sess:\n",
    "    # Initializing the variables\n",
    "    sess.run(tf.global_variables_initializer())\n",
    "    \n",
    "    # Training cycle\n",
    "    for epoch in range(epochs):\n",
    "        batch_i = 1\n",
    "        for batch_features, batch_labels in helper.load_preprocess_training_batch(batch_i, batch_size):\n",
    "            train_neural_network(sess, optimizer, keep_probability, batch_features, batch_labels)\n",
    "        print('Epoch {:>2}, CIFAR-10 Batch {}:  '.format(epoch + 1, batch_i), end='')\n",
    "        print_stats(sess, batch_features, batch_labels, cost, accuracy)"
   ]
  },
  {
   "cell_type": "markdown",
   "metadata": {},
   "source": [
    "### Fully Train the Model"
   ]
  },
  {
   "cell_type": "code",
   "execution_count": 134,
   "metadata": {},
   "outputs": [
    {
     "name": "stdout",
     "output_type": "stream",
     "text": [
      "Training...\n",
      "Epoch  1, CIFAR-10 Batch 1:  Loss:     1.7982 Validation Accuracy: 0.389000\n",
      "Epoch  1, CIFAR-10 Batch 2:  Loss:     1.3835 Validation Accuracy: 0.476000\n",
      "Epoch  1, CIFAR-10 Batch 3:  Loss:     1.2158 Validation Accuracy: 0.504800\n",
      "Epoch  1, CIFAR-10 Batch 4:  Loss:     1.1125 Validation Accuracy: 0.547600\n",
      "Epoch  1, CIFAR-10 Batch 5:  Loss:     1.1173 Validation Accuracy: 0.562200\n",
      "Epoch  2, CIFAR-10 Batch 1:  Loss:     1.2469 Validation Accuracy: 0.556400\n",
      "Epoch  2, CIFAR-10 Batch 2:  Loss:     0.9080 Validation Accuracy: 0.590600\n",
      "Epoch  2, CIFAR-10 Batch 3:  Loss:     0.8871 Validation Accuracy: 0.596000\n",
      "Epoch  2, CIFAR-10 Batch 4:  Loss:     0.8263 Validation Accuracy: 0.616600\n",
      "Epoch  2, CIFAR-10 Batch 5:  Loss:     0.8878 Validation Accuracy: 0.615400\n",
      "Epoch  3, CIFAR-10 Batch 1:  Loss:     1.0776 Validation Accuracy: 0.610800\n",
      "Epoch  3, CIFAR-10 Batch 2:  Loss:     0.7475 Validation Accuracy: 0.632400\n",
      "Epoch  3, CIFAR-10 Batch 3:  Loss:     0.7072 Validation Accuracy: 0.631600\n",
      "Epoch  3, CIFAR-10 Batch 4:  Loss:     0.6331 Validation Accuracy: 0.653600\n",
      "Epoch  3, CIFAR-10 Batch 5:  Loss:     0.7238 Validation Accuracy: 0.645600\n",
      "Epoch  4, CIFAR-10 Batch 1:  Loss:     0.8864 Validation Accuracy: 0.626600\n",
      "Epoch  4, CIFAR-10 Batch 2:  Loss:     0.5366 Validation Accuracy: 0.654200\n",
      "Epoch  4, CIFAR-10 Batch 3:  Loss:     0.5304 Validation Accuracy: 0.654400\n",
      "Epoch  4, CIFAR-10 Batch 4:  Loss:     0.5193 Validation Accuracy: 0.670200\n",
      "Epoch  4, CIFAR-10 Batch 5:  Loss:     0.5640 Validation Accuracy: 0.667000\n",
      "Epoch  5, CIFAR-10 Batch 1:  Loss:     0.6738 Validation Accuracy: 0.653400\n",
      "Epoch  5, CIFAR-10 Batch 2:  Loss:     0.4128 Validation Accuracy: 0.667200\n",
      "Epoch  5, CIFAR-10 Batch 3:  Loss:     0.4085 Validation Accuracy: 0.670000\n",
      "Epoch  5, CIFAR-10 Batch 4:  Loss:     0.3978 Validation Accuracy: 0.680800\n",
      "Epoch  5, CIFAR-10 Batch 5:  Loss:     0.4317 Validation Accuracy: 0.691800\n",
      "Epoch  6, CIFAR-10 Batch 1:  Loss:     0.5916 Validation Accuracy: 0.678000\n",
      "Epoch  6, CIFAR-10 Batch 2:  Loss:     0.3231 Validation Accuracy: 0.682000\n",
      "Epoch  6, CIFAR-10 Batch 3:  Loss:     0.3507 Validation Accuracy: 0.688800\n",
      "Epoch  6, CIFAR-10 Batch 4:  Loss:     0.2936 Validation Accuracy: 0.695800\n",
      "Epoch  6, CIFAR-10 Batch 5:  Loss:     0.3683 Validation Accuracy: 0.689200\n",
      "Epoch  7, CIFAR-10 Batch 1:  Loss:     0.4431 Validation Accuracy: 0.688000\n",
      "Epoch  7, CIFAR-10 Batch 2:  Loss:     0.2704 Validation Accuracy: 0.669800\n",
      "Epoch  7, CIFAR-10 Batch 3:  Loss:     0.3073 Validation Accuracy: 0.695600\n",
      "Epoch  7, CIFAR-10 Batch 4:  Loss:     0.2372 Validation Accuracy: 0.684000\n",
      "Epoch  7, CIFAR-10 Batch 5:  Loss:     0.2581 Validation Accuracy: 0.691000\n",
      "Epoch  8, CIFAR-10 Batch 1:  Loss:     0.3302 Validation Accuracy: 0.694400\n",
      "Epoch  8, CIFAR-10 Batch 2:  Loss:     0.1880 Validation Accuracy: 0.672000\n",
      "Epoch  8, CIFAR-10 Batch 3:  Loss:     0.2066 Validation Accuracy: 0.700200\n",
      "Epoch  8, CIFAR-10 Batch 4:  Loss:     0.1636 Validation Accuracy: 0.698800\n",
      "Epoch  8, CIFAR-10 Batch 5:  Loss:     0.1871 Validation Accuracy: 0.677800\n",
      "Epoch  9, CIFAR-10 Batch 1:  Loss:     0.2791 Validation Accuracy: 0.700600\n",
      "Epoch  9, CIFAR-10 Batch 2:  Loss:     0.1475 Validation Accuracy: 0.676600\n",
      "Epoch  9, CIFAR-10 Batch 3:  Loss:     0.1315 Validation Accuracy: 0.713400\n",
      "Epoch  9, CIFAR-10 Batch 4:  Loss:     0.1065 Validation Accuracy: 0.702800\n",
      "Epoch  9, CIFAR-10 Batch 5:  Loss:     0.1509 Validation Accuracy: 0.689200\n",
      "Epoch 10, CIFAR-10 Batch 1:  Loss:     0.1757 Validation Accuracy: 0.705400\n",
      "Epoch 10, CIFAR-10 Batch 2:  Loss:     0.1003 Validation Accuracy: 0.693200\n",
      "Epoch 10, CIFAR-10 Batch 3:  Loss:     0.0996 Validation Accuracy: 0.711000\n",
      "Epoch 10, CIFAR-10 Batch 4:  Loss:     0.1061 Validation Accuracy: 0.691800\n",
      "Epoch 10, CIFAR-10 Batch 5:  Loss:     0.1020 Validation Accuracy: 0.697400\n",
      "Epoch 11, CIFAR-10 Batch 1:  Loss:     0.1512 Validation Accuracy: 0.706400\n",
      "Epoch 11, CIFAR-10 Batch 2:  Loss:     0.0676 Validation Accuracy: 0.698600\n",
      "Epoch 11, CIFAR-10 Batch 3:  Loss:     0.0871 Validation Accuracy: 0.713400\n",
      "Epoch 11, CIFAR-10 Batch 4:  Loss:     0.1321 Validation Accuracy: 0.693400\n",
      "Epoch 11, CIFAR-10 Batch 5:  Loss:     0.0688 Validation Accuracy: 0.705600\n",
      "Epoch 12, CIFAR-10 Batch 1:  Loss:     0.1251 Validation Accuracy: 0.713200\n",
      "Epoch 12, CIFAR-10 Batch 2:  Loss:     0.0635 Validation Accuracy: 0.701200\n",
      "Epoch 12, CIFAR-10 Batch 3:  Loss:     0.0856 Validation Accuracy: 0.710800\n",
      "Epoch 12, CIFAR-10 Batch 4:  Loss:     0.0687 Validation Accuracy: 0.695800\n",
      "Epoch 12, CIFAR-10 Batch 5:  Loss:     0.0649 Validation Accuracy: 0.696200\n",
      "Epoch 13, CIFAR-10 Batch 1:  Loss:     0.0922 Validation Accuracy: 0.707600\n",
      "Epoch 13, CIFAR-10 Batch 2:  Loss:     0.0636 Validation Accuracy: 0.705600\n",
      "Epoch 13, CIFAR-10 Batch 3:  Loss:     0.0406 Validation Accuracy: 0.715400\n",
      "Epoch 13, CIFAR-10 Batch 4:  Loss:     0.0779 Validation Accuracy: 0.693200\n",
      "Epoch 13, CIFAR-10 Batch 5:  Loss:     0.0815 Validation Accuracy: 0.673800\n",
      "Epoch 14, CIFAR-10 Batch 1:  Loss:     0.0675 Validation Accuracy: 0.693400\n",
      "Epoch 14, CIFAR-10 Batch 2:  Loss:     0.0368 Validation Accuracy: 0.714400\n",
      "Epoch 14, CIFAR-10 Batch 3:  Loss:     0.0355 Validation Accuracy: 0.713600\n",
      "Epoch 14, CIFAR-10 Batch 4:  Loss:     0.0580 Validation Accuracy: 0.694200\n",
      "Epoch 14, CIFAR-10 Batch 5:  Loss:     0.0349 Validation Accuracy: 0.686200\n",
      "Epoch 15, CIFAR-10 Batch 1:  Loss:     0.0416 Validation Accuracy: 0.701400\n",
      "Epoch 15, CIFAR-10 Batch 2:  Loss:     0.0286 Validation Accuracy: 0.710200\n",
      "Epoch 15, CIFAR-10 Batch 3:  Loss:     0.0279 Validation Accuracy: 0.718400\n",
      "Epoch 15, CIFAR-10 Batch 4:  Loss:     0.0383 Validation Accuracy: 0.685200\n",
      "Epoch 15, CIFAR-10 Batch 5:  Loss:     0.0241 Validation Accuracy: 0.701600\n",
      "Epoch 16, CIFAR-10 Batch 1:  Loss:     0.0470 Validation Accuracy: 0.703000\n",
      "Epoch 16, CIFAR-10 Batch 2:  Loss:     0.0259 Validation Accuracy: 0.715000\n",
      "Epoch 16, CIFAR-10 Batch 3:  Loss:     0.0325 Validation Accuracy: 0.709800\n",
      "Epoch 16, CIFAR-10 Batch 4:  Loss:     0.0347 Validation Accuracy: 0.693400\n",
      "Epoch 16, CIFAR-10 Batch 5:  Loss:     0.0387 Validation Accuracy: 0.704200\n",
      "Epoch 17, CIFAR-10 Batch 1:  Loss:     0.0241 Validation Accuracy: 0.704200\n",
      "Epoch 17, CIFAR-10 Batch 2:  Loss:     0.0376 Validation Accuracy: 0.706800\n",
      "Epoch 17, CIFAR-10 Batch 3:  Loss:     0.0204 Validation Accuracy: 0.700800\n",
      "Epoch 17, CIFAR-10 Batch 4:  Loss:     0.0262 Validation Accuracy: 0.690600\n",
      "Epoch 17, CIFAR-10 Batch 5:  Loss:     0.0143 Validation Accuracy: 0.720400\n",
      "Epoch 18, CIFAR-10 Batch 1:  Loss:     0.0367 Validation Accuracy: 0.708000\n",
      "Epoch 18, CIFAR-10 Batch 2:  Loss:     0.0194 Validation Accuracy: 0.700200\n",
      "Epoch 18, CIFAR-10 Batch 3:  Loss:     0.0123 Validation Accuracy: 0.694600\n",
      "Epoch 18, CIFAR-10 Batch 4:  Loss:     0.0204 Validation Accuracy: 0.689200\n",
      "Epoch 18, CIFAR-10 Batch 5:  Loss:     0.0150 Validation Accuracy: 0.713000\n",
      "Epoch 19, CIFAR-10 Batch 1:  Loss:     0.0140 Validation Accuracy: 0.710800\n",
      "Epoch 19, CIFAR-10 Batch 2:  Loss:     0.0119 Validation Accuracy: 0.709000\n",
      "Epoch 19, CIFAR-10 Batch 3:  Loss:     0.0160 Validation Accuracy: 0.698400\n",
      "Epoch 19, CIFAR-10 Batch 4:  Loss:     0.0126 Validation Accuracy: 0.687000\n",
      "Epoch 19, CIFAR-10 Batch 5:  Loss:     0.0074 Validation Accuracy: 0.715600\n",
      "Epoch 20, CIFAR-10 Batch 1:  Loss:     0.0148 Validation Accuracy: 0.711800\n",
      "Epoch 20, CIFAR-10 Batch 2:  Loss:     0.0065 Validation Accuracy: 0.710200\n",
      "Epoch 20, CIFAR-10 Batch 3:  Loss:     0.0141 Validation Accuracy: 0.693000\n",
      "Epoch 20, CIFAR-10 Batch 4:  Loss:     0.0200 Validation Accuracy: 0.686400\n",
      "Epoch 20, CIFAR-10 Batch 5:  Loss:     0.0112 Validation Accuracy: 0.711600\n"
     ]
    }
   ],
   "source": [
    "save_model_path = './image_classification'\n",
    "\n",
    "print('Training...')\n",
    "with tf.Session() as sess:\n",
    "    # Initializing the variables\n",
    "    sess.run(tf.global_variables_initializer())\n",
    "    \n",
    "    # Training cycle\n",
    "    for epoch in range(epochs):\n",
    "        # Loop over all batches\n",
    "        n_batches = 5\n",
    "        for batch_i in range(1, n_batches + 1):\n",
    "            for batch_features, batch_labels in helper.load_preprocess_training_batch(batch_i, batch_size):\n",
    "                train_neural_network(sess, optimizer, keep_probability, batch_features, batch_labels)\n",
    "            print('Epoch {:>2}, CIFAR-10 Batch {}:  '.format(epoch + 1, batch_i), end='')\n",
    "            print_stats(sess, batch_features, batch_labels, cost, accuracy)\n",
    "            \n",
    "    # Save Model\n",
    "    saver = tf.train.Saver()\n",
    "    save_path = saver.save(sess, save_model_path)"
   ]
  },
  {
   "cell_type": "markdown",
   "metadata": {},
   "source": [
    "# Checkpoint\n",
    "## Test Model"
   ]
  },
  {
   "cell_type": "code",
   "execution_count": 135,
   "metadata": {},
   "outputs": [
    {
     "name": "stdout",
     "output_type": "stream",
     "text": [
      "Testing Accuracy: 0.7073773734177216\n",
      "\n"
     ]
    },
    {
     "data": {
      "image/png": "[encoded data removed]",
      "text/plain": [
       "<matplotlib.figure.Figure at 0x7f3e7db25f28>"
      ]
     },
     "metadata": {
      "image/png": {
       "height": 319,
       "width": 355
      }
     },
     "output_type": "display_data"
    }
   ],
   "source": [
    "%matplotlib inline\n",
    "%config InlineBackend.figure_format = 'retina'\n",
    "\n",
    "import tensorflow as tf\n",
    "import pickle\n",
    "import helper\n",
    "import random\n",
    "\n",
    "# Set batch size if not already set\n",
    "try:\n",
    "    if batch_size:\n",
    "        pass\n",
    "except NameError:\n",
    "    batch_size = 64\n",
    "\n",
    "save_model_path = './image_classification'\n",
    "n_samples = 4\n",
    "top_n_predictions = 3\n",
    "\n",
    "def test_model():\n",
    "    \"\"\"\n",
    "    Test the saved model against the test dataset\n",
    "    \"\"\"\n",
    "\n",
    "    test_features, test_labels = pickle.load(open('preprocess_test.p', mode='rb'))\n",
    "    loaded_graph = tf.Graph()\n",
    "\n",
    "    with tf.Session(graph=loaded_graph) as sess:\n",
    "        # Load model\n",
    "        loader = tf.train.import_meta_graph(save_model_path + '.meta')\n",
    "        loader.restore(sess, save_model_path)\n",
    "\n",
    "        # Get Tensors from loaded model\n",
    "        loaded_x = loaded_graph.get_tensor_by_name('x:0')\n",
    "        loaded_y = loaded_graph.get_tensor_by_name('y:0')\n",
    "        loaded_keep_prob = loaded_graph.get_tensor_by_name('keep_prob:0')\n",
    "        loaded_logits = loaded_graph.get_tensor_by_name('logits:0')\n",
    "        loaded_acc = loaded_graph.get_tensor_by_name('accuracy:0')\n",
    "        \n",
    "        # Get accuracy in batches for memory limitations\n",
    "        test_batch_acc_total = 0\n",
    "        test_batch_count = 0\n",
    "        \n",
    "        for test_feature_batch, test_label_batch in helper.batch_features_labels(test_features, test_labels, batch_size):\n",
    "            test_batch_acc_total += sess.run(\n",
    "                loaded_acc,\n",
    "                feed_dict={loaded_x: test_feature_batch, loaded_y: test_label_batch, loaded_keep_prob: 1.0})\n",
    "            test_batch_count += 1\n",
    "\n",
    "        print('Testing Accuracy: {}\\n'.format(test_batch_acc_total/test_batch_count))\n",
    "\n",
    "        # Print Random Samples\n",
    "        random_test_features, random_test_labels = tuple(zip(*random.sample(list(zip(test_features, test_labels)), n_samples)))\n",
    "        random_test_predictions = sess.run(\n",
    "            tf.nn.top_k(tf.nn.softmax(loaded_logits), top_n_predictions),\n",
    "            feed_dict={loaded_x: random_test_features, loaded_y: random_test_labels, loaded_keep_prob: 1.0})\n",
    "        helper.display_image_predictions(random_test_features, random_test_labels, random_test_predictions)\n",
    "\n",
    "\n",
    "test_model()"
   ]
  }
 ],
 "metadata": {
  "kernelspec": {
   "display_name": "Python 3",
   "language": "python",
   "name": "python3"
  },
  "language_info": {
   "codemirror_mode": {
    "name": "ipython",
    "version": 3
   },
   "file_extension": ".py",
   "mimetype": "text/x-python",
   "name": "python",
   "nbconvert_exporter": "python",
   "pygments_lexer": "ipython3",
   "version": "3.5.4"
  },
  "widgets": {
   "state": {},
   "version": "1.1.2"
  }
 },
 "nbformat": 4,
 "nbformat_minor": 1
}
